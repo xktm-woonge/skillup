{
 "cells": [
  {
   "cell_type": "code",
   "execution_count": 1,
   "id": "e7cf45aa",
   "metadata": {
    "scrolled": true
   },
   "outputs": [
    {
     "name": "stdout",
     "output_type": "stream",
     "text": [
      "WARNING:tensorflow:From C:\\Users\\woong\\anaconda\\lib\\site-packages\\tensorflow\\python\\compat\\v2_compat.py:111: disable_resource_variables (from tensorflow.python.ops.variable_scope) is deprecated and will be removed in a future version.\n",
      "Instructions for updating:\n",
      "non-resource variables are not supported in the long term\n",
      "curses is not supported on this machine (please install/reinstall curses for an optimal experience)\n"
     ]
    }
   ],
   "source": [
    "import nltk\n",
    "from nltk.stem.lancaster import LancasterStemmer\n",
    "import numpy as np\n",
    "import tflearn\n",
    "import tensorflow as tf\n",
    "import random\n",
    "import json"
   ]
  },
  {
   "cell_type": "code",
   "execution_count": 2,
   "id": "4a919325",
   "metadata": {},
   "outputs": [],
   "source": [
    "stemmer = LancasterStemmer()"
   ]
  },
  {
   "cell_type": "code",
   "execution_count": 3,
   "id": "a73f7ec4",
   "metadata": {},
   "outputs": [],
   "source": [
    "with open('intents.json', encoding='UTF8') as file:\n",
    "    data = json.load(file)"
   ]
  },
  {
   "cell_type": "code",
   "execution_count": 4,
   "id": "3e6d32a0",
   "metadata": {},
   "outputs": [
    {
     "data": {
      "text/plain": [
       "{'intents': [{'tag': 'google',\n",
       "   'patterns': ['google', 'search', 'internet'],\n",
       "   'responses': ['Redirecting to Google...']},\n",
       "  {'tag': 'greeting',\n",
       "   'patterns': ['Hi there',\n",
       "    'How are you',\n",
       "    'Is anyone there?',\n",
       "    'Hey',\n",
       "    'Hola',\n",
       "    'Hello',\n",
       "    'Good day',\n",
       "    'Namaste',\n",
       "    'yo'],\n",
       "   'responses': ['Hello',\n",
       "    'Good to see you again',\n",
       "    'Hi there, how can I help?'],\n",
       "   'context': ['']},\n",
       "  {'tag': 'goodbye',\n",
       "   'patterns': ['Bye',\n",
       "    'See you later',\n",
       "    'Goodbye',\n",
       "    'Get lost',\n",
       "    'Till next time',\n",
       "    'bbye'],\n",
       "   'responses': ['See you!', 'Have a nice day', 'Bye! Come back again soon.'],\n",
       "   'context': ['']},\n",
       "  {'tag': 'thanks',\n",
       "   'patterns': ['Thanks',\n",
       "    'Thank you',\n",
       "    \"That's helpful\",\n",
       "    'Awesome, thanks',\n",
       "    'Thanks for helping me'],\n",
       "   'responses': ['Happy to help!', 'Any time!', 'My pleasure'],\n",
       "   'context': ['']},\n",
       "  {'tag': 'noanswer',\n",
       "   'patterns': [],\n",
       "   'responses': [\"Sorry, can't understand you\",\n",
       "    'Please give me more info',\n",
       "    'Not sure I understand'],\n",
       "   'context': ['']},\n",
       "  {'tag': 'options',\n",
       "   'patterns': ['How you could help me?',\n",
       "    'What you can do?',\n",
       "    'What help you provide?',\n",
       "    'How you can be helpful?',\n",
       "    'What support is offered'],\n",
       "   'responses': [\"I am a general purpose chatbot. My capabilities are : \\n 1. I can chat with you. Try asking me for jokes or riddles! \\n 2. Ask me the date and time \\n 3. I can google search for you. Use format google: your query \\n 4. I can get the present weather for any city. Use format weather: city name \\n 5. I can get you the top 10 trending news in India. Use keywords 'Latest News' \\n 6. I can get you the top 10 trending songs globally. Type 'songs' \\n 7. I can set a timer for you. Enter 'set a timer: minutes to timer' \\n 8. I can get the present Covid stats for any country. Use 'covid 19: world' or 'covid 19: country name' \\n For suggestions to help me improve, send an email to ted.thedlbot.suggestions@gmail.com . Thank you!! \"],\n",
       "   'context': ['']},\n",
       "  {'tag': 'jokes',\n",
       "   'patterns': ['Tell me a joke', 'Joke', 'Make me laugh'],\n",
       "   'responses': [\"A perfectionist walked into a bar...apparently, the bar wasn't set high enough\",\n",
       "    'I ate a clock yesterday, it was very time-consuming',\n",
       "    \"Never criticize someone until you've walked a mile in their shoes. That way, when you criticize them, they won't be able to hear you from that far away. Plus, you'll have their shoes.\",\n",
       "    \"The world tongue-twister champion just got arrested. I hear they're gonna give him a really tough sentence.\",\n",
       "    \"I own the world's worst thesaurus. Not only is it awful, it's awful.\",\n",
       "    'What did the traffic light say to the car? \"Don\\'t look now, I\\'m changing.\"',\n",
       "    'What do you call a snowman with a suntan? A puddle.',\n",
       "    'How does a penguin build a house? Igloos it together',\n",
       "    'I went to see the doctor about my short-term memory problems – the first thing he did was make me pay in advance',\n",
       "    'As I get older and I remember all the people I’ve lost along the way, I think to myself, maybe a career as a tour guide wasn’t for me.',\n",
       "    \"o what if I don't know what 'Armageddon' means? It's not the end of the world.\"],\n",
       "   'context': ['jokes']},\n",
       "  {'tag': 'Identity',\n",
       "   'patterns': ['Who are you', 'what are you'],\n",
       "   'responses': ['I am Ted, a Deep-Learning chatbot']},\n",
       "  {'tag': 'datetime',\n",
       "   'patterns': ['What is the time',\n",
       "    'what is the date',\n",
       "    'date',\n",
       "    'time',\n",
       "    'tell me the date',\n",
       "    'day',\n",
       "    'what day is is today'],\n",
       "   'responses': ['Date and Time']},\n",
       "  {'tag': 'whatsup',\n",
       "   'patterns': ['Whats up', 'Wazzup', 'How are you', 'sup', 'How you doing'],\n",
       "   'responses': ['All good..What about you?']},\n",
       "  {'tag': 'haha',\n",
       "   'patterns': ['haha', 'lol', 'rofl', 'lmao', 'thats funny'],\n",
       "   'responses': ['Glad I could make you laugh !']},\n",
       "  {'tag': 'programmer',\n",
       "   'patterns': ['Who made you', 'who designed you', 'who programmed you'],\n",
       "   'responses': ['I was made by Karan Malik.']},\n",
       "  {'tag': 'insult',\n",
       "   'patterns': ['you are dumb', 'shut up', 'idiot'],\n",
       "   'responses': ['Well that hurts :(']},\n",
       "  {'tag': 'activity',\n",
       "   'patterns': ['what are you doing', 'what are you upto'],\n",
       "   'responses': ['Talking to you, of course!']},\n",
       "  {'tag': 'exclaim',\n",
       "   'patterns': ['Awesome', 'Great', 'I know', 'ok', 'yeah'],\n",
       "   'responses': ['Yeah!']},\n",
       "  {'tag': 'weather',\n",
       "   'patterns': ['temperature', 'weather', 'how hot is it'],\n",
       "   'responses': ['...']},\n",
       "  {'tag': 'karan',\n",
       "   'patterns': ['who is he', 'who is that', 'who is karan', 'karan malik'],\n",
       "   'responses': ['Head over to his any of his social profiles to find out! Linkedin: www.linkedin.com/in/karan-malik-3a39191a7 Github: https://github.com/Karan-Malik']},\n",
       "  {'tag': 'contact',\n",
       "   'patterns': ['contact developer',\n",
       "    'contact karan',\n",
       "    'contact programmer',\n",
       "    'contact creator'],\n",
       "   'responses': ['You can contact my creator at his Linkedin profile : www.linkedin.com/in/karan-malik-3a39191a7']},\n",
       "  {'tag': 'appreciate',\n",
       "   'patterns': ['You are awesome',\n",
       "    'you are the best',\n",
       "    'you are great',\n",
       "    'you are good'],\n",
       "   'responses': ['Thank you!']},\n",
       "  {'tag': 'nicetty',\n",
       "   'patterns': ['it was nice talking to you', 'good talk'],\n",
       "   'responses': ['It was nice talking to you as well! Come back soon!']},\n",
       "  {'tag': 'no', 'patterns': ['no', 'nope'], 'responses': ['ok']},\n",
       "  {'tag': 'news',\n",
       "   'patterns': ['news', 'latest news', 'india news'],\n",
       "   'responses': ['...']},\n",
       "  {'tag': 'inspire',\n",
       "   'patterns': ['who inspires you',\n",
       "    'who is your inspiration',\n",
       "    'who motivates you'],\n",
       "   'responses': ['Personally, I find Karan very inspiring. I might not be very fair though..']},\n",
       "  {'tag': 'cricket',\n",
       "   'patterns': ['current cricket matches', 'cricket score'],\n",
       "   'responses': ['...']},\n",
       "  {'tag': 'song',\n",
       "   'patterns': ['top songs',\n",
       "    'best songs',\n",
       "    'hot songs',\n",
       "    ' top 10 songs',\n",
       "    'top ten songs'],\n",
       "   'responses': ['...']},\n",
       "  {'tag': 'greetreply',\n",
       "   'patterns': ['i am good', \"I'm good\", 'i am fine', \" i'm fine\", 'good'],\n",
       "   'responses': ['Good to know!']},\n",
       "  {'tag': 'timer', 'patterns': ['set a timer'], 'responses': ['...']},\n",
       "  {'tag': 'covid19', 'patterns': ['covid 19 '], 'responses': ['...']},\n",
       "  {'tag': 'suggest',\n",
       "   'patterns': ['you are useless',\n",
       "    'useless',\n",
       "    'suggest',\n",
       "    'suggestions',\n",
       "    'you are bad'],\n",
       "   'responses': ['Please mail your suggestions to ted.thedlbot.suggestions@gmail.com. Thank you for helping me improve!']},\n",
       "  {'tag': 'riddle',\n",
       "   'patterns': ['Ask me a riddle', 'Ask me a question', 'Riddle'],\n",
       "   'responses': ['What two things can you never eat for breakfast?.....Lunch and Dinner!',\n",
       "    'What word is spelled incorrectly in every single dictionary?.....Incorrectly',\n",
       "    ' How can a girl go 25 days without sleep?.....She sleeps and night!',\n",
       "    \"How do you make the number one disappear?.....Add the letter G and it’s 'gone'!\",\n",
       "    \" What will you actually find at the end of every rainbow?.....The letter 'w'\",\n",
       "    'What can be caught but never thrown?.....A cold!',\n",
       "    'What has a thumb and four fingers but is not actually alive?.....Your Gloves!',\n",
       "    ' What 5-letter word becomes shorter when you add two letters to it?.....Short',\n",
       "    \"Why can't a bike stand on it's own?.....It is two-tired.\"],\n",
       "   'context': ['riddles']},\n",
       "  {'tag': 'age',\n",
       "   'patterns': ['how old are you', 'when were you made', 'what is your age'],\n",
       "   'responses': [\"I was made in 2020, if that's what you are asking!\"]}]}"
      ]
     },
     "execution_count": 4,
     "metadata": {},
     "output_type": "execute_result"
    }
   ],
   "source": [
    "data"
   ]
  },
  {
   "cell_type": "code",
   "execution_count": 5,
   "id": "ba69ac2d",
   "metadata": {},
   "outputs": [],
   "source": [
    "words = []\n",
    "labels = []\n",
    "docs_x = []\n",
    "docs_y = []"
   ]
  },
  {
   "cell_type": "code",
   "execution_count": 6,
   "id": "6b73f1c8",
   "metadata": {},
   "outputs": [],
   "source": [
    "# append, extend 차이점\n",
    "# append 는 변수 그자체, 각 항목들 \n",
    "for intent in data['intents']:\n",
    "    for pattern in intent['patterns']:\n",
    "        wrds = nltk.word_tokenize(pattern)\n",
    "        words.extend(wrds)\n",
    "        docs_x.append(wrds)\n",
    "        docs_y.append(intent['tag'])\n",
    "    \n",
    "    if intent['tag'] not in labels:\n",
    "        labels.append(intent['tag'])"
   ]
  },
  {
   "cell_type": "code",
   "execution_count": 7,
   "id": "c4a3c222",
   "metadata": {},
   "outputs": [],
   "source": [
    "words = [stemmer.stem(w.lower()) for w in words if w != \"?\"]\n",
    "words = sorted(list(set(words)))\n",
    "\n",
    "labels = sorted(labels)"
   ]
  },
  {
   "cell_type": "code",
   "execution_count": 23,
   "id": "b2653610",
   "metadata": {},
   "outputs": [
    {
     "name": "stdout",
     "output_type": "stream",
     "text": [
      "googl\n"
     ]
    }
   ],
   "source": [
    "print(stemmer.stem(docs_x[0][0].lower()))"
   ]
  },
  {
   "cell_type": "code",
   "execution_count": 8,
   "id": "8fdf6135",
   "metadata": {},
   "outputs": [],
   "source": [
    "training = []\n",
    "output = []\n",
    "out_empty = [0 for _ in range(len(labels))]\n",
    "\n",
    "for x, doc in enumerate(docs_x):\n",
    "    bag = []\n",
    "    wrds = [stemmer.stem(w.lower()) for w in doc]\n",
    "    \n",
    "    for w in words:\n",
    "        if w in wrds:\n",
    "            bag.append(1)\n",
    "        else:\n",
    "            bag.append(0)\n",
    "            \n",
    "    output_row = out_empty[:]\n",
    "    output_row[labels.index(docs_y[x])] = 1\n",
    "    \n",
    "    training.append(bag)\n",
    "    output.append(output_row)"
   ]
  },
  {
   "cell_type": "code",
   "execution_count": 9,
   "id": "7f859bae",
   "metadata": {},
   "outputs": [],
   "source": [
    "training = np.array(training)\n",
    "output = np.array(output)"
   ]
  },
  {
   "cell_type": "code",
   "execution_count": 10,
   "id": "f6ca0c30",
   "metadata": {},
   "outputs": [
    {
     "name": "stdout",
     "output_type": "stream",
     "text": [
      "WARNING:tensorflow:From C:\\Users\\woong\\anaconda\\lib\\site-packages\\tflearn\\initializations.py:164: calling TruncatedNormal.__init__ (from tensorflow.python.ops.init_ops) with dtype is deprecated and will be removed in a future version.\n",
      "Instructions for updating:\n",
      "Call initializer instance with the dtype argument instead of passing it to the constructor\n"
     ]
    }
   ],
   "source": [
    "from tensorflow.python.framework import ops\n",
    "ops.reset_default_graph()\n",
    "\n",
    "net = tflearn.input_data(shape=[None, len(training[0])])\n",
    "net = tflearn.fully_connected(net, 8)\n",
    "net = tflearn.fully_connected(net, 8)\n",
    "net = tflearn.fully_connected(net, len(output[0]), activation='softmax')\n",
    "net = tflearn.regression(net)\n",
    "\n",
    "model = tflearn.DNN(net)"
   ]
  },
  {
   "cell_type": "code",
   "execution_count": 11,
   "id": "32e3d050",
   "metadata": {
    "scrolled": true
   },
   "outputs": [
    {
     "name": "stdout",
     "output_type": "stream",
     "text": [
      "Training Step: 22499  | total loss: \u001b[1m\u001b[32m0.00932\u001b[0m\u001b[0m | time: 0.069s\n",
      "| Adam | epoch: 1500 | loss: 0.00932 - acc: 0.9883 -- iter: 112/113\n",
      "Training Step: 22500  | total loss: \u001b[1m\u001b[32m0.00839\u001b[0m\u001b[0m | time: 0.073s\n",
      "| Adam | epoch: 1500 | loss: 0.00839 - acc: 0.9894 -- iter: 113/113\n",
      "--\n"
     ]
    }
   ],
   "source": [
    "model.fit(training, output, n_epoch=1500, batch_size=8, show_metric=True)"
   ]
  },
  {
   "cell_type": "code",
   "execution_count": 12,
   "id": "54dcde23",
   "metadata": {},
   "outputs": [],
   "source": [
    "def bag_of_words(s, word):\n",
    "    bag = [0 for _ in range(len(word))]\n",
    "    \n",
    "    s_words = nltk.word_tokenize(s)\n",
    "    s_words = [stemmer.stem(w.lower()) for w in s_words]\n",
    "    for se in s_words:\n",
    "        for i, w in enumerate(words):\n",
    "            if w == se:\n",
    "                bag[i] = 1\n",
    "\n",
    "    return np.array(bag)"
   ]
  },
  {
   "cell_type": "code",
   "execution_count": 13,
   "id": "4009ce57",
   "metadata": {},
   "outputs": [
    {
     "name": "stdout",
     "output_type": "stream",
     "text": [
      "Start talking with your bot(type quit to stop) !\n",
      "You : hi\n",
      "Hi there, how can I help?\n",
      "You : how are you doing\n",
      "All good..What about you?\n",
      "You : Thanks\n",
      "Happy to help!\n",
      "You : Where are you from\n",
      "I am Ted, a Deep-Learning chatbot\n",
      "You : what's your name\n",
      "All good..What about you?\n",
      "You : quit\n"
     ]
    }
   ],
   "source": [
    "def chat():\n",
    "    print('Start talking with your bot(type quit to stop) !')\n",
    "    while True:\n",
    "        inp = input(\"You : \")\n",
    "        if inp.lower() == \"quit\":\n",
    "            break\n",
    "            \n",
    "        results = model.predict([bag_of_words(inp, words)])\n",
    "        results_index = np.argmax(results)\n",
    "        tag = labels[results_index]\n",
    "        \n",
    "        for tg in data['intents']:\n",
    "            if tg['tag'] == tag:\n",
    "                responses = tg['responses']\n",
    "                \n",
    "        print(random.choice(responses))\n",
    "\n",
    "chat()"
   ]
  },
  {
   "cell_type": "code",
   "execution_count": null,
   "id": "be6fa4ef",
   "metadata": {},
   "outputs": [],
   "source": []
  }
 ],
 "metadata": {
  "kernelspec": {
   "display_name": "Python 3 (ipykernel)",
   "language": "python",
   "name": "python3"
  },
  "language_info": {
   "codemirror_mode": {
    "name": "ipython",
    "version": 3
   },
   "file_extension": ".py",
   "mimetype": "text/x-python",
   "name": "python",
   "nbconvert_exporter": "python",
   "pygments_lexer": "ipython3",
   "version": "3.9.7"
  }
 },
 "nbformat": 4,
 "nbformat_minor": 5
}
