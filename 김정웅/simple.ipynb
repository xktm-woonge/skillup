{
 "cells": [
  {
   "cell_type": "code",
   "execution_count": 80,
   "id": "8613da8f",
   "metadata": {},
   "outputs": [],
   "source": [
    "import pandas as pd\n",
    "from sentence_transformers import SentenceTransformer\n",
    "from sklearn.metrics.pairwise import cosine_similarity\n",
    "import urllib.request"
   ]
  },
  {
   "cell_type": "code",
   "execution_count": 6,
   "id": "fb3b8602",
   "metadata": {},
   "outputs": [
    {
     "data": {
      "application/vnd.jupyter.widget-view+json": {
       "model_id": "101b40c0433d4916a71b0ea1bd76bb80",
       "version_major": 2,
       "version_minor": 0
      },
      "text/plain": [
       "Downloading:   0%|          | 0.00/1.18k [00:00<?, ?B/s]"
      ]
     },
     "metadata": {},
     "output_type": "display_data"
    },
    {
     "data": {
      "application/vnd.jupyter.widget-view+json": {
       "model_id": "4eb170e18bda470c8e256057d489db70",
       "version_major": 2,
       "version_minor": 0
      },
      "text/plain": [
       "Downloading:   0%|          | 0.00/190 [00:00<?, ?B/s]"
      ]
     },
     "metadata": {},
     "output_type": "display_data"
    },
    {
     "data": {
      "application/vnd.jupyter.widget-view+json": {
       "model_id": "3380db234d3a48b98fc2432ed45ce9ca",
       "version_major": 2,
       "version_minor": 0
      },
      "text/plain": [
       "Downloading:   0%|          | 0.00/4.86k [00:00<?, ?B/s]"
      ]
     },
     "metadata": {},
     "output_type": "display_data"
    },
    {
     "data": {
      "application/vnd.jupyter.widget-view+json": {
       "model_id": "fe6c14b8f6f54184a3fee771f8ad2ea7",
       "version_major": 2,
       "version_minor": 0
      },
      "text/plain": [
       "Downloading:   0%|          | 0.00/744 [00:00<?, ?B/s]"
      ]
     },
     "metadata": {},
     "output_type": "display_data"
    },
    {
     "data": {
      "application/vnd.jupyter.widget-view+json": {
       "model_id": "a1a9b7abecb14f4ba80c29dd961577f4",
       "version_major": 2,
       "version_minor": 0
      },
      "text/plain": [
       "Downloading:   0%|          | 0.00/123 [00:00<?, ?B/s]"
      ]
     },
     "metadata": {},
     "output_type": "display_data"
    },
    {
     "data": {
      "application/vnd.jupyter.widget-view+json": {
       "model_id": "f730c812a42e44dd83da9024bc8be246",
       "version_major": 2,
       "version_minor": 0
      },
      "text/plain": [
       "Downloading:   0%|          | 0.00/931 [00:00<?, ?B/s]"
      ]
     },
     "metadata": {},
     "output_type": "display_data"
    },
    {
     "data": {
      "application/vnd.jupyter.widget-view+json": {
       "model_id": "59de1d37d2c245b5b103c42c11ee3f26",
       "version_major": 2,
       "version_minor": 0
      },
      "text/plain": [
       "Downloading:   0%|          | 0.00/443M [00:00<?, ?B/s]"
      ]
     },
     "metadata": {},
     "output_type": "display_data"
    },
    {
     "data": {
      "application/vnd.jupyter.widget-view+json": {
       "model_id": "34a071693eb34b43a8c0bbf11724dbad",
       "version_major": 2,
       "version_minor": 0
      },
      "text/plain": [
       "Downloading:   0%|          | 0.00/53.0 [00:00<?, ?B/s]"
      ]
     },
     "metadata": {},
     "output_type": "display_data"
    },
    {
     "data": {
      "application/vnd.jupyter.widget-view+json": {
       "model_id": "7d48aa19063c4debaf805b80fc70a5ae",
       "version_major": 2,
       "version_minor": 0
      },
      "text/plain": [
       "Downloading:   0%|          | 0.00/302 [00:00<?, ?B/s]"
      ]
     },
     "metadata": {},
     "output_type": "display_data"
    },
    {
     "data": {
      "application/vnd.jupyter.widget-view+json": {
       "model_id": "c0c47d94409d4a689a4a13d3f226980d",
       "version_major": 2,
       "version_minor": 0
      },
      "text/plain": [
       "Downloading:   0%|          | 0.00/156 [00:00<?, ?B/s]"
      ]
     },
     "metadata": {},
     "output_type": "display_data"
    },
    {
     "data": {
      "application/vnd.jupyter.widget-view+json": {
       "model_id": "50a1c04b52ba4cdb8d12c09843659f1c",
       "version_major": 2,
       "version_minor": 0
      },
      "text/plain": [
       "Downloading:   0%|          | 0.00/495k [00:00<?, ?B/s]"
      ]
     },
     "metadata": {},
     "output_type": "display_data"
    },
    {
     "data": {
      "application/vnd.jupyter.widget-view+json": {
       "model_id": "96ab0763121746c3bf5d1469a6220707",
       "version_major": 2,
       "version_minor": 0
      },
      "text/plain": [
       "Downloading:   0%|          | 0.00/585 [00:00<?, ?B/s]"
      ]
     },
     "metadata": {},
     "output_type": "display_data"
    },
    {
     "data": {
      "application/vnd.jupyter.widget-view+json": {
       "model_id": "b7d627bff81a4eabac6a8e4506e93cc8",
       "version_major": 2,
       "version_minor": 0
      },
      "text/plain": [
       "Downloading:   0%|          | 0.00/248k [00:00<?, ?B/s]"
      ]
     },
     "metadata": {},
     "output_type": "display_data"
    },
    {
     "data": {
      "application/vnd.jupyter.widget-view+json": {
       "model_id": "b5903e6229f74505bc8cbc8e3320c892",
       "version_major": 2,
       "version_minor": 0
      },
      "text/plain": [
       "Downloading:   0%|          | 0.00/229 [00:00<?, ?B/s]"
      ]
     },
     "metadata": {},
     "output_type": "display_data"
    },
    {
     "name": "stdout",
     "output_type": "stream",
     "text": [
      "[[-0.37510458 -0.7733839   0.5927711  ...  0.57923526  0.3268346\n",
      "  -0.65089655]\n",
      " [-0.09361681 -0.18191518 -0.19230832 ... -0.03165777  0.30412534\n",
      "  -0.2679363 ]]\n"
     ]
    }
   ],
   "source": [
    "# 모델 불러오기\n",
    "model = SentenceTransformer('jhgan/ko-sroberta-multitask')"
   ]
  },
  {
   "cell_type": "code",
   "execution_count": 16,
   "id": "b58691b0",
   "metadata": {},
   "outputs": [
    {
     "data": {
      "text/html": [
       "<div>\n",
       "<style scoped>\n",
       "    .dataframe tbody tr th:only-of-type {\n",
       "        vertical-align: middle;\n",
       "    }\n",
       "\n",
       "    .dataframe tbody tr th {\n",
       "        vertical-align: top;\n",
       "    }\n",
       "\n",
       "    .dataframe thead th {\n",
       "        text-align: right;\n",
       "    }\n",
       "</style>\n",
       "<table border=\"1\" class=\"dataframe\">\n",
       "  <thead>\n",
       "    <tr style=\"text-align: right;\">\n",
       "      <th></th>\n",
       "      <th>Unnamed: 0</th>\n",
       "      <th>Q</th>\n",
       "      <th>A</th>\n",
       "    </tr>\n",
       "  </thead>\n",
       "  <tbody>\n",
       "    <tr>\n",
       "      <th>0</th>\n",
       "      <td>0</td>\n",
       "      <td>12시 땡!</td>\n",
       "      <td>하루가 또 가네요.</td>\n",
       "    </tr>\n",
       "    <tr>\n",
       "      <th>1</th>\n",
       "      <td>1</td>\n",
       "      <td>1지망 학교 떨어졌어</td>\n",
       "      <td>위로해 드립니다.</td>\n",
       "    </tr>\n",
       "    <tr>\n",
       "      <th>2</th>\n",
       "      <td>2</td>\n",
       "      <td>3박4일 놀러가고 싶다</td>\n",
       "      <td>여행은 언제나 좋죠.</td>\n",
       "    </tr>\n",
       "    <tr>\n",
       "      <th>3</th>\n",
       "      <td>3</td>\n",
       "      <td>3박4일 정도 놀러가고 싶다</td>\n",
       "      <td>여행은 언제나 좋죠.</td>\n",
       "    </tr>\n",
       "    <tr>\n",
       "      <th>4</th>\n",
       "      <td>4</td>\n",
       "      <td>PPL 심하네</td>\n",
       "      <td>눈살이 찌푸려지죠.</td>\n",
       "    </tr>\n",
       "    <tr>\n",
       "      <th>...</th>\n",
       "      <td>...</td>\n",
       "      <td>...</td>\n",
       "      <td>...</td>\n",
       "    </tr>\n",
       "    <tr>\n",
       "      <th>12852</th>\n",
       "      <td>12852</td>\n",
       "      <td>그 사람이 응급실 의사한테 뭐라고 속닥거리니까, 저보고 갑자기 응급처치 끝났다고, ...</td>\n",
       "      <td>응급실이 있어서 다행이네요. 큰 문제는 없으신 거죠?</td>\n",
       "    </tr>\n",
       "    <tr>\n",
       "      <th>12853</th>\n",
       "      <td>12853</td>\n",
       "      <td>파편이 튀어서 그 때 저도 응급실 가서 치료 받기도 했고…</td>\n",
       "      <td>응급실에 가셨다니 정말 놀랐어요. 아무 문제 없으신가요? 걱정 되네요.</td>\n",
       "    </tr>\n",
       "    <tr>\n",
       "      <th>12854</th>\n",
       "      <td>12854</td>\n",
       "      <td>지금 상태가 너무 안 좋아서 학교 안 나가고 있어요.</td>\n",
       "      <td>상태가 더 안 좋아지셨군요. 걱정이 되네요.</td>\n",
       "    </tr>\n",
       "    <tr>\n",
       "      <th>12855</th>\n",
       "      <td>12855</td>\n",
       "      <td>진짜 심해진 거 같긴 해요.</td>\n",
       "      <td>정말 힘드시겠어요. 지금도 증상이 심하신가요?</td>\n",
       "    </tr>\n",
       "    <tr>\n",
       "      <th>12856</th>\n",
       "      <td>12856</td>\n",
       "      <td>그런데 증상이 나빠진 거 같아.</td>\n",
       "      <td>너무 심하시면 병원을 다시 가보는 건 어떨까요?</td>\n",
       "    </tr>\n",
       "  </tbody>\n",
       "</table>\n",
       "<p>12857 rows × 3 columns</p>\n",
       "</div>"
      ],
      "text/plain": [
       "       Unnamed: 0                                                  Q  \\\n",
       "0               0                                             12시 땡!   \n",
       "1               1                                        1지망 학교 떨어졌어   \n",
       "2               2                                       3박4일 놀러가고 싶다   \n",
       "3               3                                    3박4일 정도 놀러가고 싶다   \n",
       "4               4                                            PPL 심하네   \n",
       "...           ...                                                ...   \n",
       "12852       12852  그 사람이 응급실 의사한테 뭐라고 속닥거리니까, 저보고 갑자기 응급처치 끝났다고, ...   \n",
       "12853       12853                   파편이 튀어서 그 때 저도 응급실 가서 치료 받기도 했고…   \n",
       "12854       12854                     지금 상태가 너무 안 좋아서 학교 안 나가고 있어요.    \n",
       "12855       12855                                   진짜 심해진 거 같긴 해요.    \n",
       "12856       12856                                 그런데 증상이 나빠진 거 같아.    \n",
       "\n",
       "                                             A  \n",
       "0                                   하루가 또 가네요.  \n",
       "1                                    위로해 드립니다.  \n",
       "2                                  여행은 언제나 좋죠.  \n",
       "3                                  여행은 언제나 좋죠.  \n",
       "4                                   눈살이 찌푸려지죠.  \n",
       "...                                        ...  \n",
       "12852            응급실이 있어서 다행이네요. 큰 문제는 없으신 거죠?  \n",
       "12853  응급실에 가셨다니 정말 놀랐어요. 아무 문제 없으신가요? 걱정 되네요.  \n",
       "12854                 상태가 더 안 좋아지셨군요. 걱정이 되네요.  \n",
       "12855                정말 힘드시겠어요. 지금도 증상이 심하신가요?  \n",
       "12856               너무 심하시면 병원을 다시 가보는 건 어떨까요?  \n",
       "\n",
       "[12857 rows x 3 columns]"
      ]
     },
     "execution_count": 16,
     "metadata": {},
     "output_type": "execute_result"
    }
   ],
   "source": [
    "df=pd.read_csv('dataset.csv')\n",
    "df"
   ]
  },
  {
   "cell_type": "code",
   "execution_count": 17,
   "id": "f912eeb9",
   "metadata": {},
   "outputs": [],
   "source": [
    "df.drop('Unnamed: 0',axis=1,inplace=True)"
   ]
  },
  {
   "cell_type": "code",
   "execution_count": 18,
   "id": "9886ec48",
   "metadata": {},
   "outputs": [
    {
     "data": {
      "text/html": [
       "<div>\n",
       "<style scoped>\n",
       "    .dataframe tbody tr th:only-of-type {\n",
       "        vertical-align: middle;\n",
       "    }\n",
       "\n",
       "    .dataframe tbody tr th {\n",
       "        vertical-align: top;\n",
       "    }\n",
       "\n",
       "    .dataframe thead th {\n",
       "        text-align: right;\n",
       "    }\n",
       "</style>\n",
       "<table border=\"1\" class=\"dataframe\">\n",
       "  <thead>\n",
       "    <tr style=\"text-align: right;\">\n",
       "      <th></th>\n",
       "      <th>Q</th>\n",
       "      <th>A</th>\n",
       "    </tr>\n",
       "  </thead>\n",
       "  <tbody>\n",
       "    <tr>\n",
       "      <th>0</th>\n",
       "      <td>12시 땡!</td>\n",
       "      <td>하루가 또 가네요.</td>\n",
       "    </tr>\n",
       "    <tr>\n",
       "      <th>1</th>\n",
       "      <td>1지망 학교 떨어졌어</td>\n",
       "      <td>위로해 드립니다.</td>\n",
       "    </tr>\n",
       "    <tr>\n",
       "      <th>2</th>\n",
       "      <td>3박4일 놀러가고 싶다</td>\n",
       "      <td>여행은 언제나 좋죠.</td>\n",
       "    </tr>\n",
       "    <tr>\n",
       "      <th>3</th>\n",
       "      <td>3박4일 정도 놀러가고 싶다</td>\n",
       "      <td>여행은 언제나 좋죠.</td>\n",
       "    </tr>\n",
       "    <tr>\n",
       "      <th>4</th>\n",
       "      <td>PPL 심하네</td>\n",
       "      <td>눈살이 찌푸려지죠.</td>\n",
       "    </tr>\n",
       "    <tr>\n",
       "      <th>...</th>\n",
       "      <td>...</td>\n",
       "      <td>...</td>\n",
       "    </tr>\n",
       "    <tr>\n",
       "      <th>12852</th>\n",
       "      <td>그 사람이 응급실 의사한테 뭐라고 속닥거리니까, 저보고 갑자기 응급처치 끝났다고, ...</td>\n",
       "      <td>응급실이 있어서 다행이네요. 큰 문제는 없으신 거죠?</td>\n",
       "    </tr>\n",
       "    <tr>\n",
       "      <th>12853</th>\n",
       "      <td>파편이 튀어서 그 때 저도 응급실 가서 치료 받기도 했고…</td>\n",
       "      <td>응급실에 가셨다니 정말 놀랐어요. 아무 문제 없으신가요? 걱정 되네요.</td>\n",
       "    </tr>\n",
       "    <tr>\n",
       "      <th>12854</th>\n",
       "      <td>지금 상태가 너무 안 좋아서 학교 안 나가고 있어요.</td>\n",
       "      <td>상태가 더 안 좋아지셨군요. 걱정이 되네요.</td>\n",
       "    </tr>\n",
       "    <tr>\n",
       "      <th>12855</th>\n",
       "      <td>진짜 심해진 거 같긴 해요.</td>\n",
       "      <td>정말 힘드시겠어요. 지금도 증상이 심하신가요?</td>\n",
       "    </tr>\n",
       "    <tr>\n",
       "      <th>12856</th>\n",
       "      <td>그런데 증상이 나빠진 거 같아.</td>\n",
       "      <td>너무 심하시면 병원을 다시 가보는 건 어떨까요?</td>\n",
       "    </tr>\n",
       "  </tbody>\n",
       "</table>\n",
       "<p>12857 rows × 2 columns</p>\n",
       "</div>"
      ],
      "text/plain": [
       "                                                       Q  \\\n",
       "0                                                 12시 땡!   \n",
       "1                                            1지망 학교 떨어졌어   \n",
       "2                                           3박4일 놀러가고 싶다   \n",
       "3                                        3박4일 정도 놀러가고 싶다   \n",
       "4                                                PPL 심하네   \n",
       "...                                                  ...   \n",
       "12852  그 사람이 응급실 의사한테 뭐라고 속닥거리니까, 저보고 갑자기 응급처치 끝났다고, ...   \n",
       "12853                   파편이 튀어서 그 때 저도 응급실 가서 치료 받기도 했고…   \n",
       "12854                     지금 상태가 너무 안 좋아서 학교 안 나가고 있어요.    \n",
       "12855                                   진짜 심해진 거 같긴 해요.    \n",
       "12856                                 그런데 증상이 나빠진 거 같아.    \n",
       "\n",
       "                                             A  \n",
       "0                                   하루가 또 가네요.  \n",
       "1                                    위로해 드립니다.  \n",
       "2                                  여행은 언제나 좋죠.  \n",
       "3                                  여행은 언제나 좋죠.  \n",
       "4                                   눈살이 찌푸려지죠.  \n",
       "...                                        ...  \n",
       "12852            응급실이 있어서 다행이네요. 큰 문제는 없으신 거죠?  \n",
       "12853  응급실에 가셨다니 정말 놀랐어요. 아무 문제 없으신가요? 걱정 되네요.  \n",
       "12854                 상태가 더 안 좋아지셨군요. 걱정이 되네요.  \n",
       "12855                정말 힘드시겠어요. 지금도 증상이 심하신가요?  \n",
       "12856               너무 심하시면 병원을 다시 가보는 건 어떨까요?  \n",
       "\n",
       "[12857 rows x 2 columns]"
      ]
     },
     "execution_count": 18,
     "metadata": {},
     "output_type": "execute_result"
    }
   ],
   "source": [
    "df"
   ]
  },
  {
   "cell_type": "code",
   "execution_count": 19,
   "id": "168b1223",
   "metadata": {},
   "outputs": [],
   "source": [
    "# dataset Q 임베딩\n",
    "em = []\n",
    "for x in range(df.shape[0]):\n",
    "    em.append(model.encode(df['Q'][x]))"
   ]
  },
  {
   "cell_type": "code",
   "execution_count": 20,
   "id": "3c75d371",
   "metadata": {},
   "outputs": [],
   "source": [
    "df['embedding'] = em"
   ]
  },
  {
   "cell_type": "code",
   "execution_count": 21,
   "id": "f46bf611",
   "metadata": {},
   "outputs": [
    {
     "data": {
      "text/html": [
       "<div>\n",
       "<style scoped>\n",
       "    .dataframe tbody tr th:only-of-type {\n",
       "        vertical-align: middle;\n",
       "    }\n",
       "\n",
       "    .dataframe tbody tr th {\n",
       "        vertical-align: top;\n",
       "    }\n",
       "\n",
       "    .dataframe thead th {\n",
       "        text-align: right;\n",
       "    }\n",
       "</style>\n",
       "<table border=\"1\" class=\"dataframe\">\n",
       "  <thead>\n",
       "    <tr style=\"text-align: right;\">\n",
       "      <th></th>\n",
       "      <th>Q</th>\n",
       "      <th>A</th>\n",
       "      <th>embedding</th>\n",
       "    </tr>\n",
       "  </thead>\n",
       "  <tbody>\n",
       "    <tr>\n",
       "      <th>0</th>\n",
       "      <td>12시 땡!</td>\n",
       "      <td>하루가 또 가네요.</td>\n",
       "      <td>[-0.19072711, 0.32147592, 0.59873784, 0.446178...</td>\n",
       "    </tr>\n",
       "    <tr>\n",
       "      <th>1</th>\n",
       "      <td>1지망 학교 떨어졌어</td>\n",
       "      <td>위로해 드립니다.</td>\n",
       "      <td>[0.123206064, 0.64236826, 0.68536025, -0.42912...</td>\n",
       "    </tr>\n",
       "    <tr>\n",
       "      <th>2</th>\n",
       "      <td>3박4일 놀러가고 싶다</td>\n",
       "      <td>여행은 언제나 좋죠.</td>\n",
       "      <td>[0.024357582, -0.22393535, 0.22917657, -0.4501...</td>\n",
       "    </tr>\n",
       "    <tr>\n",
       "      <th>3</th>\n",
       "      <td>3박4일 정도 놀러가고 싶다</td>\n",
       "      <td>여행은 언제나 좋죠.</td>\n",
       "      <td>[0.03628536, -0.21048243, 0.07269376, -0.54036...</td>\n",
       "    </tr>\n",
       "    <tr>\n",
       "      <th>4</th>\n",
       "      <td>PPL 심하네</td>\n",
       "      <td>눈살이 찌푸려지죠.</td>\n",
       "      <td>[0.02203077, 0.70552164, -0.17157197, 0.165971...</td>\n",
       "    </tr>\n",
       "    <tr>\n",
       "      <th>...</th>\n",
       "      <td>...</td>\n",
       "      <td>...</td>\n",
       "      <td>...</td>\n",
       "    </tr>\n",
       "    <tr>\n",
       "      <th>12852</th>\n",
       "      <td>그 사람이 응급실 의사한테 뭐라고 속닥거리니까, 저보고 갑자기 응급처치 끝났다고, ...</td>\n",
       "      <td>응급실이 있어서 다행이네요. 큰 문제는 없으신 거죠?</td>\n",
       "      <td>[-0.18907858, -0.43884447, 0.39459082, -0.2362...</td>\n",
       "    </tr>\n",
       "    <tr>\n",
       "      <th>12853</th>\n",
       "      <td>파편이 튀어서 그 때 저도 응급실 가서 치료 받기도 했고…</td>\n",
       "      <td>응급실에 가셨다니 정말 놀랐어요. 아무 문제 없으신가요? 걱정 되네요.</td>\n",
       "      <td>[-0.5251449, -0.46516117, -0.26985374, -0.3506...</td>\n",
       "    </tr>\n",
       "    <tr>\n",
       "      <th>12854</th>\n",
       "      <td>지금 상태가 너무 안 좋아서 학교 안 나가고 있어요.</td>\n",
       "      <td>상태가 더 안 좋아지셨군요. 걱정이 되네요.</td>\n",
       "      <td>[-0.6814687, -0.11450246, 0.038397163, -0.2865...</td>\n",
       "    </tr>\n",
       "    <tr>\n",
       "      <th>12855</th>\n",
       "      <td>진짜 심해진 거 같긴 해요.</td>\n",
       "      <td>정말 힘드시겠어요. 지금도 증상이 심하신가요?</td>\n",
       "      <td>[-0.18132992, -0.10980904, -0.21448663, -0.443...</td>\n",
       "    </tr>\n",
       "    <tr>\n",
       "      <th>12856</th>\n",
       "      <td>그런데 증상이 나빠진 거 같아.</td>\n",
       "      <td>너무 심하시면 병원을 다시 가보는 건 어떨까요?</td>\n",
       "      <td>[-0.53017116, -0.15990543, 0.49804136, -0.0031...</td>\n",
       "    </tr>\n",
       "  </tbody>\n",
       "</table>\n",
       "<p>12857 rows × 3 columns</p>\n",
       "</div>"
      ],
      "text/plain": [
       "                                                       Q  \\\n",
       "0                                                 12시 땡!   \n",
       "1                                            1지망 학교 떨어졌어   \n",
       "2                                           3박4일 놀러가고 싶다   \n",
       "3                                        3박4일 정도 놀러가고 싶다   \n",
       "4                                                PPL 심하네   \n",
       "...                                                  ...   \n",
       "12852  그 사람이 응급실 의사한테 뭐라고 속닥거리니까, 저보고 갑자기 응급처치 끝났다고, ...   \n",
       "12853                   파편이 튀어서 그 때 저도 응급실 가서 치료 받기도 했고…   \n",
       "12854                     지금 상태가 너무 안 좋아서 학교 안 나가고 있어요.    \n",
       "12855                                   진짜 심해진 거 같긴 해요.    \n",
       "12856                                 그런데 증상이 나빠진 거 같아.    \n",
       "\n",
       "                                             A  \\\n",
       "0                                   하루가 또 가네요.   \n",
       "1                                    위로해 드립니다.   \n",
       "2                                  여행은 언제나 좋죠.   \n",
       "3                                  여행은 언제나 좋죠.   \n",
       "4                                   눈살이 찌푸려지죠.   \n",
       "...                                        ...   \n",
       "12852            응급실이 있어서 다행이네요. 큰 문제는 없으신 거죠?   \n",
       "12853  응급실에 가셨다니 정말 놀랐어요. 아무 문제 없으신가요? 걱정 되네요.   \n",
       "12854                 상태가 더 안 좋아지셨군요. 걱정이 되네요.   \n",
       "12855                정말 힘드시겠어요. 지금도 증상이 심하신가요?   \n",
       "12856               너무 심하시면 병원을 다시 가보는 건 어떨까요?   \n",
       "\n",
       "                                               embedding  \n",
       "0      [-0.19072711, 0.32147592, 0.59873784, 0.446178...  \n",
       "1      [0.123206064, 0.64236826, 0.68536025, -0.42912...  \n",
       "2      [0.024357582, -0.22393535, 0.22917657, -0.4501...  \n",
       "3      [0.03628536, -0.21048243, 0.07269376, -0.54036...  \n",
       "4      [0.02203077, 0.70552164, -0.17157197, 0.165971...  \n",
       "...                                                  ...  \n",
       "12852  [-0.18907858, -0.43884447, 0.39459082, -0.2362...  \n",
       "12853  [-0.5251449, -0.46516117, -0.26985374, -0.3506...  \n",
       "12854  [-0.6814687, -0.11450246, 0.038397163, -0.2865...  \n",
       "12855  [-0.18132992, -0.10980904, -0.21448663, -0.443...  \n",
       "12856  [-0.53017116, -0.15990543, 0.49804136, -0.0031...  \n",
       "\n",
       "[12857 rows x 3 columns]"
      ]
     },
     "execution_count": 21,
     "metadata": {},
     "output_type": "execute_result"
    }
   ],
   "source": [
    "df.to_csv('data.csv')\n",
    "df"
   ]
  },
  {
   "cell_type": "code",
   "execution_count": 74,
   "id": "7ef97f3f",
   "metadata": {},
   "outputs": [],
   "source": [
    "def answer(x):\n",
    "    text = x\n",
    "    embedding = model.encode(text)\n",
    "    emb = []\n",
    "    for x in df['embedding']:\n",
    "        emb.append(float(cosine_similarity([embedding], [x]).squeeze()))\n",
    "    df['result'] = emb\n",
    "    answer = df.loc[df['result'].idxmax()]\n",
    "\n",
    "    return answer['A']"
   ]
  },
  {
   "cell_type": "code",
   "execution_count": 79,
   "id": "2c09ed61",
   "metadata": {},
   "outputs": [
    {
     "name": "stdout",
     "output_type": "stream",
     "text": [
      "머리아파\n",
      "시원한 바람 쉬고 약먹기!\n",
      "컴퓨터\n",
      "주기적으로 하는 게 좋죠.\n",
      "티비\n",
      "조심하세요.\n"
     ]
    }
   ],
   "source": [
    "for _ in range(3):\n",
    "    print(answer(input()))"
   ]
  },
  {
   "cell_type": "code",
   "execution_count": null,
   "id": "7edcce67",
   "metadata": {},
   "outputs": [],
   "source": []
  }
 ],
 "metadata": {
  "kernelspec": {
   "display_name": "Python [conda env:nltk]",
   "language": "python",
   "name": "conda-env-nltk-py"
  },
  "language_info": {
   "codemirror_mode": {
    "name": "ipython",
    "version": 3
   },
   "file_extension": ".py",
   "mimetype": "text/x-python",
   "name": "python",
   "nbconvert_exporter": "python",
   "pygments_lexer": "ipython3",
   "version": "3.7.11"
  }
 },
 "nbformat": 4,
 "nbformat_minor": 5
}
